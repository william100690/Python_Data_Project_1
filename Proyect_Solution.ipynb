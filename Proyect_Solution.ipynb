{
 "cells": [
  {
   "cell_type": "code",
   "execution_count": 1,
   "metadata": {},
   "outputs": [],
   "source": [
    "import pandas as pd\n",
    "import numpy as np"
   ]
  },
  {
   "cell_type": "code",
   "execution_count": 38,
   "metadata": {},
   "outputs": [],
   "source": [
    "#Read the archive from its relative path\n",
    "\n",
    "amz = pd.read_csv(r\"Datasets\\amazon_prime_titles.csv\")\n",
    "dsny = pd.read_csv(r\"Datasets\\disney_plus_titles.csv\")\n",
    "hlu = pd.read_csv(r\"Datasets\\hulu_titles.csv\")\n",
    "ntx = pd.read_json(r\"Datasets\\netflix_titles.json\")"
   ]
  },
  {
   "cell_type": "code",
   "execution_count": 41,
   "metadata": {},
   "outputs": [
    {
     "name": "stdout",
     "output_type": "stream",
     "text": [
      "<class 'pandas.core.frame.DataFrame'>\n",
      "RangeIndex: 9668 entries, 0 to 9667\n",
      "Data columns (total 12 columns):\n",
      " #   Column        Non-Null Count  Dtype \n",
      "---  ------        --------------  ----- \n",
      " 0   show_id       9668 non-null   object\n",
      " 1   type          9668 non-null   object\n",
      " 2   title         9668 non-null   object\n",
      " 3   director      7586 non-null   object\n",
      " 4   cast          8435 non-null   object\n",
      " 5   country       672 non-null    object\n",
      " 6   date_added    155 non-null    object\n",
      " 7   release_year  9668 non-null   int64 \n",
      " 8   rating        9331 non-null   object\n",
      " 9   duration      9668 non-null   object\n",
      " 10  listed_in     9668 non-null   object\n",
      " 11  description   9668 non-null   object\n",
      "dtypes: int64(1), object(11)\n",
      "memory usage: 906.5+ KB\n"
     ]
    }
   ],
   "source": [
    "#show general info from each of the archives (remember to erase the # of the archive you want info from)\n",
    "\n",
    "amz_info = amz.info()\n",
    "#dsny_info = dsny.info()\n",
    "#hlu_info = hlu.info()\n",
    "#ntx_info = ntx.info()"
   ]
  },
  {
   "cell_type": "code",
   "execution_count": 42,
   "metadata": {},
   "outputs": [
    {
     "data": {
      "text/plain": [
       "show_id            0\n",
       "type               0\n",
       "title              0\n",
       "director        2082\n",
       "cast            1233\n",
       "country         8996\n",
       "date_added      9513\n",
       "release_year       0\n",
       "rating           337\n",
       "duration           0\n",
       "listed_in          0\n",
       "description        0\n",
       "dtype: int64"
      ]
     },
     "execution_count": 42,
     "metadata": {},
     "output_type": "execute_result"
    }
   ],
   "source": [
    "#show the null quantity of every archive (remember to erase the # of the archive you want info from)\n",
    "\n",
    "amz_nul = amz.isnull().sum()\n",
    "dsny_nul = dsny.isnull().sum()\n",
    "hlu_nul = hlu.isnull().sum()\n",
    "ntx_nul = ntx.isnull().sum()\n",
    "amz_nul\n",
    "#dsny_nul\n",
    "#hlu_nul\n",
    "#ntx_nul"
   ]
  },
  {
   "cell_type": "code",
   "execution_count": 43,
   "metadata": {},
   "outputs": [
    {
     "data": {
      "text/plain": [
       "show_id          0.000000\n",
       "type             0.000000\n",
       "title            0.000000\n",
       "director        21.534961\n",
       "cast            12.753413\n",
       "country         93.049235\n",
       "date_added      98.396773\n",
       "release_year     0.000000\n",
       "rating           3.485726\n",
       "duration         0.000000\n",
       "listed_in        0.000000\n",
       "description      0.000000\n",
       "dtype: float64"
      ]
     },
     "execution_count": 43,
     "metadata": {},
     "output_type": "execute_result"
    }
   ],
   "source": [
    "#show the null quantity in percentage \n",
    "\n",
    "amz_nul_p = amz.isnull().mean() * 100\n",
    "dsny_nul_p = dsny.isnull().mean() * 100\n",
    "hlu_nul_p = hlu.isnull().mean() * 100\n",
    "ntx_nul_p = ntx.isnull().mean() * 100\n",
    "amz_nul_p\n",
    "#dsny_nul_p\n",
    "#hlu_nul_p\n",
    "#ntx_nul_p"
   ]
  },
  {
   "attachments": {},
   "cell_type": "markdown",
   "metadata": {},
   "source": [
    "QUESTION A)  Quantity of movies and series by platform"
   ]
  },
  {
   "cell_type": "code",
   "execution_count": 44,
   "metadata": {},
   "outputs": [],
   "source": [
    "#make a copy of the data frame so we dont mees up the original...\n",
    "amz_c = amz.copy()\n",
    "dsny_c = dsny.copy()\n",
    "hlu_c = hlu.copy()\n",
    "ntx_c = ntx.copy()"
   ]
  },
  {
   "cell_type": "code",
   "execution_count": 45,
   "metadata": {},
   "outputs": [],
   "source": [
    "#create the function to identify the elements that are series\n",
    "def identify_series(palabra):\n",
    "    last = palabra[-3:]\n",
    "    if last != \"min\":\n",
    "        return \"serie\"\n",
    "    else:\n",
    "        return palabra\n",
    "\n",
    " #create the function to identify the elements that are movies   \n",
    "def identify_movies(palabra):\n",
    "    last = palabra[-3:]\n",
    "    if last == \"min\":\n",
    "        return \"movie\"\n",
    "    else:\n",
    "        return palabra\n",
    "\n"
   ]
  },
  {
   "attachments": {},
   "cell_type": "markdown",
   "metadata": {},
   "source": [
    "1st separate the amz df"
   ]
  },
  {
   "cell_type": "code",
   "execution_count": 46,
   "metadata": {},
   "outputs": [
    {
     "name": "stdout",
     "output_type": "stream",
     "text": [
      "size of amz_c df (9668, 12)\n",
      "size of amz_movies df (7814, 12)\n"
     ]
    }
   ],
   "source": [
    "# asign the function to the column duration\n",
    "amz_c[\"duration\"] = amz_c[\"duration\"].apply(lambda x: identify_series(x))\n",
    "\n",
    "#from column duration eliminate the ones that are serie and make a new data frame\n",
    "amz_movies = amz_c[amz_c[\"duration\"]!=\"serie\"]\n",
    "\n",
    "#show the shape to see the diference in the rows\n",
    "print(f\"size of amz_c df {amz_c.shape}\")\n",
    "print(f\"size of amz_movies df {amz_movies.shape}\")"
   ]
  },
  {
   "cell_type": "code",
   "execution_count": 47,
   "metadata": {},
   "outputs": [
    {
     "name": "stdout",
     "output_type": "stream",
     "text": [
      "size of amz_c df (9668, 12)\n",
      "size of amz_series df (1854, 12)\n"
     ]
    }
   ],
   "source": [
    "# asign the function to the column duration\n",
    "amz_c = amz.copy() #recreate the amz_c data frame\n",
    "amz_c[\"duration\"] = amz_c[\"duration\"].apply(lambda x: identify_movies(x))\n",
    "\n",
    "#from column duration eliminate the ones that are movie and make a new data frame\n",
    "amz_series = amz_c[amz_c[\"duration\"]!=\"movie\"]\n",
    "\n",
    "#show the shape to see the diference in the rows\n",
    "print(f\"size of amz_c df {amz_c.shape}\")\n",
    "print(f\"size of amz_series df {amz_series.shape}\")"
   ]
  },
  {
   "cell_type": "code",
   "execution_count": 48,
   "metadata": {},
   "outputs": [
    {
     "name": "stdout",
     "output_type": "stream",
     "text": [
      "9668\n",
      "9668\n"
     ]
    }
   ],
   "source": [
    "#checking if the data frames are correct\n",
    "print(amz_movies.shape[0] + amz_series.shape[0])\n",
    "print(amz_c.shape[0])"
   ]
  },
  {
   "attachments": {},
   "cell_type": "markdown",
   "metadata": {},
   "source": [
    "2nd separate the dsny df"
   ]
  },
  {
   "cell_type": "code",
   "execution_count": 49,
   "metadata": {},
   "outputs": [
    {
     "name": "stdout",
     "output_type": "stream",
     "text": [
      "size of dsny_c df (1450, 12)\n",
      "size of dsny_movies df (1052, 12)\n"
     ]
    }
   ],
   "source": [
    "# asign the function to the column duration\n",
    "dsny_c[\"duration\"] = dsny_c[\"duration\"].apply(lambda x: identify_series(x))\n",
    "\n",
    "#from column duration eliminate the ones that are serie and make a new data frame\n",
    "dsny_movies = dsny_c[dsny_c[\"duration\"]!=\"serie\"]\n",
    "\n",
    "#show the shape to see the diference in the rows\n",
    "print(f\"size of dsny_c df {dsny_c.shape}\")\n",
    "print(f\"size of dsny_movies df {dsny_movies.shape}\")"
   ]
  },
  {
   "cell_type": "code",
   "execution_count": 50,
   "metadata": {},
   "outputs": [
    {
     "name": "stdout",
     "output_type": "stream",
     "text": [
      "size of dsny_c df (1450, 12)\n",
      "size of dsny_series df (398, 12)\n"
     ]
    }
   ],
   "source": [
    "# asign the function to the column duration\n",
    "dsny_c = dsny.copy()\n",
    "dsny_c[\"duration\"] = dsny_c[\"duration\"].apply(lambda x: identify_movies(x))\n",
    "\n",
    "#from column duration eliminate the ones that are movie and make a new data frame\n",
    "dsny_series = dsny_c[dsny_c[\"duration\"]!=\"movie\"]\n",
    "\n",
    "#show the shape to see the diference in the rows\n",
    "print(f\"size of dsny_c df {dsny_c.shape}\")\n",
    "print(f\"size of dsny_series df {dsny_series.shape}\")"
   ]
  },
  {
   "cell_type": "code",
   "execution_count": 51,
   "metadata": {},
   "outputs": [
    {
     "name": "stdout",
     "output_type": "stream",
     "text": [
      "1450\n",
      "1450\n"
     ]
    }
   ],
   "source": [
    "#checking if the data frames are correct\n",
    "print(dsny_movies.shape[0] + dsny_series.shape[0])\n",
    "print(dsny_c.shape[0])"
   ]
  },
  {
   "attachments": {},
   "cell_type": "markdown",
   "metadata": {},
   "source": [
    "3rd separate the hlu df"
   ]
  },
  {
   "cell_type": "code",
   "execution_count": 52,
   "metadata": {},
   "outputs": [
    {
     "name": "stdout",
     "output_type": "stream",
     "text": [
      "The hulu data frame has 479 null values on the duration column that represent the 15.59% of the values\n"
     ]
    }
   ],
   "source": [
    "#Null values on the duration column\n",
    "print(f\"The hulu data frame has {round(hlu_nul[9],2)} null values on the duration column that represent the {round(hlu_nul_p[9],2)}% of the values\")"
   ]
  },
  {
   "cell_type": "code",
   "execution_count": 53,
   "metadata": {},
   "outputs": [
    {
     "name": "stdout",
     "output_type": "stream",
     "text": [
      "Size of hlu_movies (1484, 12) and hlu_series (1589, 12)\n",
      "True\n"
     ]
    }
   ],
   "source": [
    "#since the hulu data frame its not complete in the duration column, separate movies and series by other way\n",
    "hlu_movies = hlu_c[hlu_c[\"type\"]==\"Movie\"]\n",
    "hlu_series = hlu_c[hlu_c[\"type\"]!=\"Movie\"]\n",
    "\n",
    "print(f\"Size of hlu_movies {hlu_movies.shape} and hlu_series {hlu_series.shape}\")\n",
    "\n",
    "#make sure we are not missing a value\n",
    "print(f\"{hlu_movies.shape[0] + hlu_series.shape[0] == hlu_c.shape[0]}\")"
   ]
  },
  {
   "cell_type": "code",
   "execution_count": 54,
   "metadata": {},
   "outputs": [
    {
     "name": "stdout",
     "output_type": "stream",
     "text": [
      "Size of ntx_movies (6131, 12) and ntx_series (2676, 12)\n",
      "True\n"
     ]
    }
   ],
   "source": [
    "#since the hulu data frame its not complete in the duration column, separate movies and series by other way\n",
    "ntx_movies = ntx_c[ntx_c[\"type\"]==\"Movie\"]\n",
    "ntx_series = ntx_c[ntx_c[\"type\"]!=\"Movie\"]\n",
    "\n",
    "print(f\"Size of ntx_movies {ntx_movies.shape} and ntx_series {ntx_series.shape}\")\n",
    "\n",
    "#make sure we are not missing a value\n",
    "print(f\"{ntx_movies.shape[0] + ntx_series.shape[0] == ntx_c.shape[0]}\")"
   ]
  },
  {
   "attachments": {},
   "cell_type": "markdown",
   "metadata": {},
   "source": [
    "ANSWER TO QUESTION A) Quantity of Series and movies by platform"
   ]
  },
  {
   "cell_type": "code",
   "execution_count": 55,
   "metadata": {},
   "outputs": [
    {
     "name": "stdout",
     "output_type": "stream",
     "text": [
      "The Amazon platform has 7814 movies and 1854 series\n",
      "The Disney platform has 1052 movies and 398 series\n",
      "The Hulu platform has 1484 movies and 1589 series\n",
      "The Netfilx platform has 6131 movies and 2676 series\n"
     ]
    }
   ],
   "source": [
    "movies = [amz_movies.shape[0], dsny_movies.shape[0], hlu_movies.shape[0], ntx_movies.shape[0]]\n",
    "series = [amz_series.shape[0], dsny_series.shape[0], hlu_series.shape[0], ntx_series.shape[0]]\n",
    "platforms = [\"Amazon\",\"Disney\",\"Hulu\",\"Netfilx\"]\n",
    "\n",
    "for movie, serie, platform in zip(movies,series,platforms):\n",
    "    print(f\"The {platform} platform has {movie} movies and {serie} series\")    \n"
   ]
  },
  {
   "attachments": {},
   "cell_type": "markdown",
   "metadata": {},
   "source": [
    "QUESTION B) Director that has the most quantity of movies by platform"
   ]
  },
  {
   "cell_type": "code",
   "execution_count": 58,
   "metadata": {},
   "outputs": [
    {
     "name": "stdout",
     "output_type": "stream",
     "text": [
      "<class 'pandas.core.frame.DataFrame'>\n",
      "Int64Index: 7814 entries, 0 to 9667\n",
      "Data columns (total 12 columns):\n",
      " #   Column        Non-Null Count  Dtype \n",
      "---  ------        --------------  ----- \n",
      " 0   show_id       7814 non-null   object\n",
      " 1   type          7814 non-null   object\n",
      " 2   title         7814 non-null   object\n",
      " 3   director      7586 non-null   object\n",
      " 4   cast          7050 non-null   object\n",
      " 5   country       569 non-null    object\n",
      " 6   date_added    16 non-null     object\n",
      " 7   release_year  7814 non-null   int64 \n",
      " 8   rating        7483 non-null   object\n",
      " 9   duration      7814 non-null   object\n",
      " 10  listed_in     7814 non-null   object\n",
      " 11  description   7814 non-null   object\n",
      "dtypes: int64(1), object(11)\n",
      "memory usage: 793.6+ KB\n"
     ]
    }
   ],
   "source": [
    "#look for the general info of each data frame (remember to erase the # of the archive you want info from)\n",
    "amz_movies_info = amz_movies.info()\n",
    "#dsny_movies_info = dsny_movies.info()\n",
    "#hlu_movies_info = hlu_movies.info()\n",
    "#ntx_movies_info = ntx_movies.info()\n"
   ]
  },
  {
   "cell_type": "code",
   "execution_count": 60,
   "metadata": {},
   "outputs": [
    {
     "data": {
      "text/plain": [
       "show_id            0\n",
       "type               0\n",
       "title              0\n",
       "director         228\n",
       "cast             764\n",
       "country         7245\n",
       "date_added      7798\n",
       "release_year       0\n",
       "rating           331\n",
       "duration           0\n",
       "listed_in          0\n",
       "description        0\n",
       "dtype: int64"
      ]
     },
     "execution_count": 60,
     "metadata": {},
     "output_type": "execute_result"
    }
   ],
   "source": [
    "#show the null quantity of every archive (remember to erase the # of the archive you want info from)\n",
    "\n",
    "amz_movies_nul = amz_movies.isnull().sum()\n",
    "dsny_movies_nul = dsny_movies.isnull().sum()\n",
    "hlu_movies_nul = hlu_movies.isnull().sum()\n",
    "ntx_movies_nul = ntx_movies.isnull().sum()\n",
    "amz_movies_nul\n",
    "#dsny_movies_nul\n",
    "#hlu_movies_nul\n",
    "#ntx_movies_nul"
   ]
  },
  {
   "cell_type": "code",
   "execution_count": 61,
   "metadata": {},
   "outputs": [
    {
     "data": {
      "text/plain": [
       "show_id          0.000000\n",
       "type             0.000000\n",
       "title            0.000000\n",
       "director         2.917840\n",
       "cast             9.777323\n",
       "country         92.718198\n",
       "date_added      99.795239\n",
       "release_year     0.000000\n",
       "rating           4.235987\n",
       "duration         0.000000\n",
       "listed_in        0.000000\n",
       "description      0.000000\n",
       "dtype: float64"
      ]
     },
     "execution_count": 61,
     "metadata": {},
     "output_type": "execute_result"
    }
   ],
   "source": [
    "#show the null quantity in percentage \n",
    "\n",
    "amz_movies_nul_p = amz_movies.isnull().mean() * 100\n",
    "dsny_movies_nul_p = dsny_movies.isnull().mean() * 100\n",
    "hlu_movies_nul_p = hlu_movies.isnull().mean() * 100\n",
    "ntx_movies_nul_p = ntx_movies.isnull().mean() * 100\n",
    "amz_movies_nul_p\n",
    "#dsny_movies_nul_p\n",
    "#hlu_movies_nul_p\n",
    "#ntx_movies_nul_p"
   ]
  },
  {
   "cell_type": "code",
   "execution_count": 62,
   "metadata": {},
   "outputs": [
    {
     "name": "stdout",
     "output_type": "stream",
     "text": [
      "In the Amazon data frame the director column has 228 null values that represents the 2.92%\n",
      "\n",
      "In the Disney data frame the director column has 75 null values that represents the 7.13%\n",
      "\n",
      "In the Hulu data frame the director column has 1481 null values that represents the 99.8%\n",
      "\n",
      "In the Netfilx data frame the director column has 188 null values that represents the 3.07%\n",
      "\n",
      "Seeing this it will be imposible to look for the directors in the hulu data frame\n",
      "propouse to the boss diferent source of information\n"
     ]
    }
   ],
   "source": [
    "#look for the quantity of null values in the director column\n",
    "platforms = [\"Amazon\",\"Disney\",\"Hulu\",\"Netfilx\"]\n",
    "movies_null = [amz_movies_nul[3],dsny_movies_nul[3],hlu_movies_nul[3],ntx_movies_nul[3]]\n",
    "movies_null_p = [round(amz_movies_nul_p[3],2),round(dsny_movies_nul_p[3],2),round(hlu_movies_nul_p[3],2),round(ntx_movies_nul_p[3],2)]\n",
    "\n",
    "for platform, value, percentage in zip(platforms, movies_null,movies_null_p):\n",
    "    print(f\"In the {platform} data frame the director column has {value} null values that represents the {percentage}%\")    \n",
    "    print(\"\")\n",
    "\n",
    "\n",
    "\n",
    "print(f\"Seeing this it will be imposible to look for the directors in the hulu data frame\")\n",
    "print(f\"propouse to the boss diferent source of information\")"
   ]
  },
  {
   "cell_type": "code",
   "execution_count": 65,
   "metadata": {},
   "outputs": [
    {
     "data": {
      "text/html": [
       "<div>\n",
       "<style scoped>\n",
       "    .dataframe tbody tr th:only-of-type {\n",
       "        vertical-align: middle;\n",
       "    }\n",
       "\n",
       "    .dataframe tbody tr th {\n",
       "        vertical-align: top;\n",
       "    }\n",
       "\n",
       "    .dataframe thead th {\n",
       "        text-align: right;\n",
       "    }\n",
       "</style>\n",
       "<table border=\"1\" class=\"dataframe\">\n",
       "  <thead>\n",
       "    <tr style=\"text-align: right;\">\n",
       "      <th></th>\n",
       "      <th>movies</th>\n",
       "    </tr>\n",
       "  </thead>\n",
       "  <tbody>\n",
       "    <tr>\n",
       "      <th>Mark Knight</th>\n",
       "      <td>113</td>\n",
       "    </tr>\n",
       "    <tr>\n",
       "      <th>Cannis Holder</th>\n",
       "      <td>61</td>\n",
       "    </tr>\n",
       "    <tr>\n",
       "      <th>Moonbug Entertainment</th>\n",
       "      <td>37</td>\n",
       "    </tr>\n",
       "  </tbody>\n",
       "</table>\n",
       "</div>"
      ],
      "text/plain": [
       "                       movies\n",
       "Mark Knight               113\n",
       "Cannis Holder              61\n",
       "Moonbug Entertainment      37"
      ]
     },
     "execution_count": 65,
     "metadata": {},
     "output_type": "execute_result"
    }
   ],
   "source": [
    "#Director with more movies in the Amazon platform\n",
    "\n",
    "#since the null values are the 2.92%, just drop them\n",
    "amz_movies_dropna_dir = amz_movies.dropna(subset=[\"director\"])   \n",
    "\n",
    "#obtain the count of each director\n",
    "amz_movies_dir = amz_movies_dropna_dir['director'].value_counts()\n",
    "\n",
    "#create a data frame with the array\n",
    "df_amz_dir = pd.DataFrame({\"movies\": amz_movies_dir})\n",
    "\n",
    "#obtain the 3 directors with more movies\n",
    "df_amz_dir = df_amz_dir.iloc[:3]\n",
    "\n",
    "df_amz_dir"
   ]
  },
  {
   "cell_type": "code",
   "execution_count": 66,
   "metadata": {},
   "outputs": [
    {
     "data": {
      "text/html": [
       "<div>\n",
       "<style scoped>\n",
       "    .dataframe tbody tr th:only-of-type {\n",
       "        vertical-align: middle;\n",
       "    }\n",
       "\n",
       "    .dataframe tbody tr th {\n",
       "        vertical-align: top;\n",
       "    }\n",
       "\n",
       "    .dataframe thead th {\n",
       "        text-align: right;\n",
       "    }\n",
       "</style>\n",
       "<table border=\"1\" class=\"dataframe\">\n",
       "  <thead>\n",
       "    <tr style=\"text-align: right;\">\n",
       "      <th></th>\n",
       "      <th>movies</th>\n",
       "    </tr>\n",
       "  </thead>\n",
       "  <tbody>\n",
       "    <tr>\n",
       "      <th>Jack Hannah</th>\n",
       "      <td>17</td>\n",
       "    </tr>\n",
       "    <tr>\n",
       "      <th>John Lasseter</th>\n",
       "      <td>16</td>\n",
       "    </tr>\n",
       "    <tr>\n",
       "      <th>Paul Hoen</th>\n",
       "      <td>16</td>\n",
       "    </tr>\n",
       "  </tbody>\n",
       "</table>\n",
       "</div>"
      ],
      "text/plain": [
       "               movies\n",
       "Jack Hannah        17\n",
       "John Lasseter      16\n",
       "Paul Hoen          16"
      ]
     },
     "execution_count": 66,
     "metadata": {},
     "output_type": "execute_result"
    }
   ],
   "source": [
    "#Director with more movies in the Disney platform\n",
    "\n",
    "#since the null values are the 7.13%, just drop them\n",
    "dsny_movies_dropna_dir = dsny_movies.dropna(subset=[\"director\"])   \n",
    "\n",
    "#obtain the count of each director\n",
    "dsny_movies_dir = dsny_movies_dropna_dir['director'].value_counts()\n",
    "\n",
    "#create a data frame with the array\n",
    "df_dsny_dir = pd.DataFrame({\"movies\": dsny_movies_dir})\n",
    "\n",
    "#obtain the 3 directors with more movies\n",
    "df_dsny_dir = df_dsny_dir.iloc[:3]\n",
    "\n",
    "df_dsny_dir"
   ]
  },
  {
   "cell_type": "code",
   "execution_count": 67,
   "metadata": {},
   "outputs": [
    {
     "data": {
      "text/html": [
       "<div>\n",
       "<style scoped>\n",
       "    .dataframe tbody tr th:only-of-type {\n",
       "        vertical-align: middle;\n",
       "    }\n",
       "\n",
       "    .dataframe tbody tr th {\n",
       "        vertical-align: top;\n",
       "    }\n",
       "\n",
       "    .dataframe thead th {\n",
       "        text-align: right;\n",
       "    }\n",
       "</style>\n",
       "<table border=\"1\" class=\"dataframe\">\n",
       "  <thead>\n",
       "    <tr style=\"text-align: right;\">\n",
       "      <th></th>\n",
       "      <th>movies</th>\n",
       "    </tr>\n",
       "  </thead>\n",
       "  <tbody>\n",
       "    <tr>\n",
       "      <th>Rajiv Chilaka</th>\n",
       "      <td>19</td>\n",
       "    </tr>\n",
       "    <tr>\n",
       "      <th>Raúl Campos, Jan Suter</th>\n",
       "      <td>18</td>\n",
       "    </tr>\n",
       "    <tr>\n",
       "      <th>Suhas Kadav</th>\n",
       "      <td>16</td>\n",
       "    </tr>\n",
       "  </tbody>\n",
       "</table>\n",
       "</div>"
      ],
      "text/plain": [
       "                        movies\n",
       "Rajiv Chilaka               19\n",
       "Raúl Campos, Jan Suter      18\n",
       "Suhas Kadav                 16"
      ]
     },
     "execution_count": 67,
     "metadata": {},
     "output_type": "execute_result"
    }
   ],
   "source": [
    "#Director with more movies in the Netflix platform\n",
    "\n",
    "#since the null values are the 7.13%, just drop them\n",
    "ntx_movies_dropna_dir = ntx_movies.dropna(subset=[\"director\"])   \n",
    "\n",
    "#obtain the count of each director\n",
    "ntx_movies_dir = ntx_movies_dropna_dir['director'].value_counts()\n",
    "\n",
    "#create a data frame with the array\n",
    "df_ntx_dir = pd.DataFrame({\"movies\": ntx_movies_dir})\n",
    "\n",
    "#obtain the 3 directors with more movies\n",
    "df_ntx_dir = df_ntx_dir.iloc[:3]\n",
    "\n",
    "df_ntx_dir"
   ]
  },
  {
   "attachments": {},
   "cell_type": "markdown",
   "metadata": {},
   "source": [
    "ANSWER TO QUESTION B)  directors with more movies per platform"
   ]
  },
  {
   "cell_type": "code",
   "execution_count": 68,
   "metadata": {},
   "outputs": [
    {
     "name": "stdout",
     "output_type": "stream",
     "text": [
      "The top 3 movie directos on Amazon platform are \n",
      "                        movies\n",
      "Mark Knight               113\n",
      "Cannis Holder              61\n",
      "Moonbug Entertainment      37\n",
      "\n",
      "The top 3 movie directos on Disney platform are \n",
      "                movies\n",
      "Jack Hannah        17\n",
      "John Lasseter      16\n",
      "Paul Hoen          16\n",
      "\n",
      "The top 3 movie directos on Netflix platform are \n",
      "                         movies\n",
      "Rajiv Chilaka               19\n",
      "Raúl Campos, Jan Suter      18\n",
      "Suhas Kadav                 16\n",
      "\n"
     ]
    }
   ],
   "source": [
    "directors = [df_amz_dir,df_dsny_dir,df_ntx_dir]\n",
    "platforms = [\"Amazon\",\"Disney\",\"Netflix\"]\n",
    "\n",
    "for director,platform in zip(directors,platforms):\n",
    "    print(f\"The top 3 movie directos on {platform} platform are \\n {director}\")\n",
    "    print(\"\")\n"
   ]
  },
  {
   "attachments": {},
   "cell_type": "markdown",
   "metadata": {},
   "source": [
    "QUESTION C) Maximun duration of movies/series by platform and year"
   ]
  },
  {
   "cell_type": "code",
   "execution_count": 69,
   "metadata": {},
   "outputs": [],
   "source": [
    "#1st convert the elements from str to int in the duration column\n",
    "#define a function that convert from str to int the elemnts of the duration column\n",
    "def convert_str_int(elemento):\n",
    "    elemento = elemento.replace(\" min\",\"\")\n",
    "    elemento = elemento.replace(\" Season\",\"\")\n",
    "    elemento = elemento.replace(\"s\",\"\")\n",
    "    elemento = int(elemento)\n",
    "    return elemento\n"
   ]
  },
  {
   "cell_type": "code",
   "execution_count": 70,
   "metadata": {},
   "outputs": [
    {
     "name": "stderr",
     "output_type": "stream",
     "text": [
      "C:\\Users\\willi\\AppData\\Local\\Temp\\ipykernel_1332\\854263215.py:5: SettingWithCopyWarning: \n",
      "A value is trying to be set on a copy of a slice from a DataFrame.\n",
      "Try using .loc[row_indexer,col_indexer] = value instead\n",
      "\n",
      "See the caveats in the documentation: https://pandas.pydata.org/pandas-docs/stable/user_guide/indexing.html#returning-a-view-versus-a-copy\n",
      "  amz_series[\"duration/season\"] = amz_series[\"duration\"].apply(lambda x: convert_str_int(x))\n"
     ]
    }
   ],
   "source": [
    "#amazon Plataform\n",
    "\n",
    "#create a new column named \"duration/min\" by applying the convert function to the \"duration\" column\n",
    "amz_movies[\"duration/min\"] = amz_movies[\"duration\"].apply(lambda x: convert_str_int(x))\n",
    "amz_series[\"duration/season\"] = amz_series[\"duration\"].apply(lambda x: convert_str_int(x))\n",
    "\n",
    "#drop the duration column\n",
    "amz_movies = amz_movies.drop(\"duration\",axis=1)\n",
    "amz_series = amz_series.drop(\"duration\",axis=1)\n",
    "\n",
    "#obtain the max duration by year\n",
    "amz_movies_year_maxduration = amz_movies.loc[amz_movies.groupby(\"release_year\")[\"duration/min\"].idxmax()]\n",
    "amz_series_year_maxduration = amz_series.loc[amz_series.groupby(\"release_year\")[\"duration/season\"].idxmax()]\n",
    "\n"
   ]
  },
  {
   "cell_type": "code",
   "execution_count": 71,
   "metadata": {},
   "outputs": [
    {
     "name": "stderr",
     "output_type": "stream",
     "text": [
      "C:\\Users\\willi\\AppData\\Local\\Temp\\ipykernel_1332\\1584190291.py:5: SettingWithCopyWarning: \n",
      "A value is trying to be set on a copy of a slice from a DataFrame.\n",
      "Try using .loc[row_indexer,col_indexer] = value instead\n",
      "\n",
      "See the caveats in the documentation: https://pandas.pydata.org/pandas-docs/stable/user_guide/indexing.html#returning-a-view-versus-a-copy\n",
      "  dsny_series[\"duration/season\"] = dsny_series[\"duration\"].apply(lambda x: convert_str_int(x))\n"
     ]
    }
   ],
   "source": [
    "#Disney Plataform\n",
    "\n",
    "#create a new column named \"duration/min\" by applying the convert function to the \"duration\" column\n",
    "dsny_movies[\"duration/min\"] = dsny_movies[\"duration\"].apply(lambda x: convert_str_int(x))\n",
    "dsny_series[\"duration/season\"] = dsny_series[\"duration\"].apply(lambda x: convert_str_int(x))\n",
    "\n",
    "#drop the duration column\n",
    "dsny_movies = dsny_movies.drop(\"duration\",axis=1)\n",
    "dsny_series = dsny_series.drop(\"duration\",axis=1)\n",
    "\n",
    "#obtain the max duration by year\n",
    "dsny_movies_year_maxduration = dsny_movies.loc[dsny_movies.groupby(\"release_year\")[\"duration/min\"].idxmax()]\n",
    "dsny_series_year_maxduration = dsny_series.loc[dsny_series.groupby(\"release_year\")[\"duration/season\"].idxmax()]\n",
    "\n"
   ]
  },
  {
   "cell_type": "code",
   "execution_count": 72,
   "metadata": {},
   "outputs": [
    {
     "name": "stderr",
     "output_type": "stream",
     "text": [
      "C:\\Users\\willi\\AppData\\Local\\Temp\\ipykernel_1332\\2411912769.py:8: SettingWithCopyWarning: \n",
      "A value is trying to be set on a copy of a slice from a DataFrame.\n",
      "Try using .loc[row_indexer,col_indexer] = value instead\n",
      "\n",
      "See the caveats in the documentation: https://pandas.pydata.org/pandas-docs/stable/user_guide/indexing.html#returning-a-view-versus-a-copy\n",
      "  hlu_series[\"duration/season\"] = hlu_series[\"duration\"].apply(lambda x: convert_str_int(x))\n"
     ]
    }
   ],
   "source": [
    "#Hulu Plataform\n",
    "\n",
    "#drop the null values that are in the duration column\n",
    "hlu_movies = hlu_movies.dropna(subset=\"duration\")\n",
    "\n",
    "#create a new column named \"duration/min\" by applying the convert function to the \"duration\" column\n",
    "hlu_movies[\"duration/min\"] = hlu_movies[\"duration\"].apply(lambda x: convert_str_int(x))\n",
    "hlu_series[\"duration/season\"] = hlu_series[\"duration\"].apply(lambda x: convert_str_int(x))\n",
    "\n",
    "#drop the duration column\n",
    "hlu_movies = hlu_movies.drop(\"duration\",axis=1)\n",
    "hlu_series = hlu_series.drop(\"duration\",axis=1)\n",
    "\n",
    "#obtain the max duration by year\n",
    "hlu_movies_year_maxduration = hlu_movies.loc[hlu_movies.groupby(\"release_year\")[\"duration/min\"].idxmax()]\n",
    "hlu_series_year_maxduration = hlu_series.loc[hlu_series.groupby(\"release_year\")[\"duration/season\"].idxmax()]\n",
    "\n"
   ]
  },
  {
   "cell_type": "code",
   "execution_count": 73,
   "metadata": {},
   "outputs": [
    {
     "name": "stderr",
     "output_type": "stream",
     "text": [
      "C:\\Users\\willi\\AppData\\Local\\Temp\\ipykernel_1332\\423320422.py:8: SettingWithCopyWarning: \n",
      "A value is trying to be set on a copy of a slice from a DataFrame.\n",
      "Try using .loc[row_indexer,col_indexer] = value instead\n",
      "\n",
      "See the caveats in the documentation: https://pandas.pydata.org/pandas-docs/stable/user_guide/indexing.html#returning-a-view-versus-a-copy\n",
      "  ntx_series[\"duration/season\"] = ntx_series[\"duration\"].apply(lambda x: convert_str_int(x))\n"
     ]
    }
   ],
   "source": [
    "#Netflix Plataform\n",
    "\n",
    "#drop the null values that are in the duration column\n",
    "ntx_movies = ntx_movies.dropna(subset=\"duration\")\n",
    "\n",
    "#create a new column named \"duration/min\" by applying the convert function to the \"duration\" column\n",
    "ntx_movies[\"duration/min\"] = ntx_movies[\"duration\"].apply(lambda x: convert_str_int(x))\n",
    "ntx_series[\"duration/season\"] = ntx_series[\"duration\"].apply(lambda x: convert_str_int(x))\n",
    "\n",
    "#drop the duration column\n",
    "ntx_movies = ntx_movies.drop(\"duration\",axis=1)\n",
    "ntx_series = ntx_series.drop(\"duration\",axis=1)\n",
    "\n",
    "#obtain the max duration by year\n",
    "ntx_movies_year_maxduration = ntx_movies.loc[ntx_movies.groupby(\"release_year\")[\"duration/min\"].idxmax()]\n",
    "ntx_series_year_maxduration = ntx_series.loc[ntx_series.groupby(\"release_year\")[\"duration/season\"].idxmax()]\n",
    "\n"
   ]
  },
  {
   "attachments": {},
   "cell_type": "markdown",
   "metadata": {},
   "source": [
    "ANSEWER TO QUESTION C) longer movie/serie by year and platform"
   ]
  },
  {
   "cell_type": "code",
   "execution_count": 74,
   "metadata": {},
   "outputs": [
    {
     "data": {
      "text/html": [
       "<div>\n",
       "<style scoped>\n",
       "    .dataframe tbody tr th:only-of-type {\n",
       "        vertical-align: middle;\n",
       "    }\n",
       "\n",
       "    .dataframe tbody tr th {\n",
       "        vertical-align: top;\n",
       "    }\n",
       "\n",
       "    .dataframe thead th {\n",
       "        text-align: right;\n",
       "    }\n",
       "</style>\n",
       "<table border=\"1\" class=\"dataframe\">\n",
       "  <thead>\n",
       "    <tr style=\"text-align: right;\">\n",
       "      <th></th>\n",
       "      <th>show_id</th>\n",
       "      <th>type</th>\n",
       "      <th>title</th>\n",
       "      <th>director</th>\n",
       "      <th>cast</th>\n",
       "      <th>country</th>\n",
       "      <th>date_added</th>\n",
       "      <th>release_year</th>\n",
       "      <th>rating</th>\n",
       "      <th>listed_in</th>\n",
       "      <th>description</th>\n",
       "      <th>duration/min</th>\n",
       "    </tr>\n",
       "  </thead>\n",
       "  <tbody>\n",
       "    <tr>\n",
       "      <th>83</th>\n",
       "      <td>s84</td>\n",
       "      <td>Movie</td>\n",
       "      <td>Within Our Gates</td>\n",
       "      <td>Oscar Micheaux</td>\n",
       "      <td>Evelyn Preer, Flo Clements</td>\n",
       "      <td>NaN</td>\n",
       "      <td>NaN</td>\n",
       "      <td>1920</td>\n",
       "      <td>13+</td>\n",
       "      <td>Drama</td>\n",
       "      <td>Abandoned by her fiance, an educated negro wom...</td>\n",
       "      <td>78</td>\n",
       "    </tr>\n",
       "    <tr>\n",
       "      <th>1425</th>\n",
       "      <td>s1426</td>\n",
       "      <td>Movie</td>\n",
       "      <td>One Exciting Night</td>\n",
       "      <td>D.W. Griffith</td>\n",
       "      <td>Carol Dempster, Henry Hull</td>\n",
       "      <td>NaN</td>\n",
       "      <td>NaN</td>\n",
       "      <td>1922</td>\n",
       "      <td>13+</td>\n",
       "      <td>Suspense</td>\n",
       "      <td>A young orphan girl, courted by an unpleasant ...</td>\n",
       "      <td>145</td>\n",
       "    </tr>\n",
       "    <tr>\n",
       "      <th>1684</th>\n",
       "      <td>s1685</td>\n",
       "      <td>Movie</td>\n",
       "      <td>Merry-Go-Round</td>\n",
       "      <td>Rupert Julian, Eric von Stroheim</td>\n",
       "      <td>Norman Kerry, Mary Philbin, Albert Conti, Al E...</td>\n",
       "      <td>NaN</td>\n",
       "      <td>NaN</td>\n",
       "      <td>1923</td>\n",
       "      <td>13+</td>\n",
       "      <td>Drama</td>\n",
       "      <td>In Vienna circa World War I, decadent Count Fr...</td>\n",
       "      <td>113</td>\n",
       "    </tr>\n",
       "    <tr>\n",
       "      <th>1134</th>\n",
       "      <td>s1135</td>\n",
       "      <td>Movie</td>\n",
       "      <td>Romola</td>\n",
       "      <td>Henry King</td>\n",
       "      <td>Lillian Gish, Dorothy Gish</td>\n",
       "      <td>NaN</td>\n",
       "      <td>NaN</td>\n",
       "      <td>1924</td>\n",
       "      <td>NR</td>\n",
       "      <td>Drama</td>\n",
       "      <td>In Renaissance Florence, Tito, a no-good young...</td>\n",
       "      <td>118</td>\n",
       "    </tr>\n",
       "    <tr>\n",
       "      <th>2629</th>\n",
       "      <td>s2630</td>\n",
       "      <td>Movie</td>\n",
       "      <td>Don Q, Son of Zorro (Silent)</td>\n",
       "      <td>Donald Crisp</td>\n",
       "      <td>Douglas Fairbanks Sr, Mary Astor, Jack McDonal...</td>\n",
       "      <td>NaN</td>\n",
       "      <td>NaN</td>\n",
       "      <td>1925</td>\n",
       "      <td>13+</td>\n",
       "      <td>Action</td>\n",
       "      <td>The Son of Zorro, Don Cesar De La Vega, is sen...</td>\n",
       "      <td>111</td>\n",
       "    </tr>\n",
       "    <tr>\n",
       "      <th>...</th>\n",
       "      <td>...</td>\n",
       "      <td>...</td>\n",
       "      <td>...</td>\n",
       "      <td>...</td>\n",
       "      <td>...</td>\n",
       "      <td>...</td>\n",
       "      <td>...</td>\n",
       "      <td>...</td>\n",
       "      <td>...</td>\n",
       "      <td>...</td>\n",
       "      <td>...</td>\n",
       "      <td>...</td>\n",
       "    </tr>\n",
       "    <tr>\n",
       "      <th>3850</th>\n",
       "      <td>s3851</td>\n",
       "      <td>Movie</td>\n",
       "      <td>Himalayan Singing Bowls 9 hours</td>\n",
       "      <td>Mark Knight</td>\n",
       "      <td>Niv Dayan, Sarah Lærke</td>\n",
       "      <td>NaN</td>\n",
       "      <td>NaN</td>\n",
       "      <td>2017</td>\n",
       "      <td>ALL</td>\n",
       "      <td>Special Interest</td>\n",
       "      <td>This ambient sleep and meditation video is a f...</td>\n",
       "      <td>550</td>\n",
       "    </tr>\n",
       "    <tr>\n",
       "      <th>933</th>\n",
       "      <td>s934</td>\n",
       "      <td>Movie</td>\n",
       "      <td>Soothing Surf at Del Norte for Sleep black screen</td>\n",
       "      <td>Mark Knight</td>\n",
       "      <td>NaN</td>\n",
       "      <td>NaN</td>\n",
       "      <td>NaN</td>\n",
       "      <td>2018</td>\n",
       "      <td>ALL</td>\n",
       "      <td>Special Interest</td>\n",
       "      <td>Black screen reduces the blue-spectrum light w...</td>\n",
       "      <td>601</td>\n",
       "    </tr>\n",
       "    <tr>\n",
       "      <th>3688</th>\n",
       "      <td>s3689</td>\n",
       "      <td>Movie</td>\n",
       "      <td>Box Fan medium  8 Hours for Sleep</td>\n",
       "      <td>Mark Knight</td>\n",
       "      <td>NaN</td>\n",
       "      <td>NaN</td>\n",
       "      <td>NaN</td>\n",
       "      <td>2019</td>\n",
       "      <td>ALL</td>\n",
       "      <td>Special Interest</td>\n",
       "      <td>Medium speed Box Fan for Sleep 8 hours capture...</td>\n",
       "      <td>540</td>\n",
       "    </tr>\n",
       "    <tr>\n",
       "      <th>7615</th>\n",
       "      <td>s7616</td>\n",
       "      <td>Movie</td>\n",
       "      <td>Night Sky With Nature Sounds with 432hz nature...</td>\n",
       "      <td>Mark Knight</td>\n",
       "      <td>Mary Kay Kayaltizer</td>\n",
       "      <td>NaN</td>\n",
       "      <td>NaN</td>\n",
       "      <td>2020</td>\n",
       "      <td>ALL</td>\n",
       "      <td>Special Interest</td>\n",
       "      <td>Slumber off to a deep and refreshing sleep wit...</td>\n",
       "      <td>540</td>\n",
       "    </tr>\n",
       "    <tr>\n",
       "      <th>8931</th>\n",
       "      <td>s8932</td>\n",
       "      <td>Movie</td>\n",
       "      <td>Enclosed</td>\n",
       "      <td>St. Joseph Nwanze</td>\n",
       "      <td>Francis Duru Paul Sambo Bruno Iwuoha</td>\n",
       "      <td>NaN</td>\n",
       "      <td>NaN</td>\n",
       "      <td>2021</td>\n",
       "      <td>16+</td>\n",
       "      <td>Drama, Romance</td>\n",
       "      <td>Three freinds with different phases in marriag...</td>\n",
       "      <td>188</td>\n",
       "    </tr>\n",
       "  </tbody>\n",
       "</table>\n",
       "<p>100 rows × 12 columns</p>\n",
       "</div>"
      ],
      "text/plain": [
       "     show_id   type                                              title  \\\n",
       "83       s84  Movie                                   Within Our Gates   \n",
       "1425   s1426  Movie                                 One Exciting Night   \n",
       "1684   s1685  Movie                                     Merry-Go-Round   \n",
       "1134   s1135  Movie                                             Romola   \n",
       "2629   s2630  Movie                       Don Q, Son of Zorro (Silent)   \n",
       "...      ...    ...                                                ...   \n",
       "3850   s3851  Movie                    Himalayan Singing Bowls 9 hours   \n",
       "933     s934  Movie  Soothing Surf at Del Norte for Sleep black screen   \n",
       "3688   s3689  Movie                  Box Fan medium  8 Hours for Sleep   \n",
       "7615   s7616  Movie  Night Sky With Nature Sounds with 432hz nature...   \n",
       "8931   s8932  Movie                                           Enclosed   \n",
       "\n",
       "                              director  \\\n",
       "83                      Oscar Micheaux   \n",
       "1425                     D.W. Griffith   \n",
       "1684  Rupert Julian, Eric von Stroheim   \n",
       "1134                        Henry King   \n",
       "2629                      Donald Crisp   \n",
       "...                                ...   \n",
       "3850                       Mark Knight   \n",
       "933                        Mark Knight   \n",
       "3688                       Mark Knight   \n",
       "7615                       Mark Knight   \n",
       "8931                 St. Joseph Nwanze   \n",
       "\n",
       "                                                   cast country date_added  \\\n",
       "83                           Evelyn Preer, Flo Clements     NaN        NaN   \n",
       "1425                         Carol Dempster, Henry Hull     NaN        NaN   \n",
       "1684  Norman Kerry, Mary Philbin, Albert Conti, Al E...     NaN        NaN   \n",
       "1134                         Lillian Gish, Dorothy Gish     NaN        NaN   \n",
       "2629  Douglas Fairbanks Sr, Mary Astor, Jack McDonal...     NaN        NaN   \n",
       "...                                                 ...     ...        ...   \n",
       "3850                             Niv Dayan, Sarah Lærke     NaN        NaN   \n",
       "933                                                 NaN     NaN        NaN   \n",
       "3688                                                NaN     NaN        NaN   \n",
       "7615                                Mary Kay Kayaltizer     NaN        NaN   \n",
       "8931               Francis Duru Paul Sambo Bruno Iwuoha     NaN        NaN   \n",
       "\n",
       "      release_year rating         listed_in  \\\n",
       "83            1920    13+             Drama   \n",
       "1425          1922    13+          Suspense   \n",
       "1684          1923    13+             Drama   \n",
       "1134          1924     NR             Drama   \n",
       "2629          1925    13+            Action   \n",
       "...            ...    ...               ...   \n",
       "3850          2017    ALL  Special Interest   \n",
       "933           2018    ALL  Special Interest   \n",
       "3688          2019    ALL  Special Interest   \n",
       "7615          2020    ALL  Special Interest   \n",
       "8931          2021    16+    Drama, Romance   \n",
       "\n",
       "                                            description  duration/min  \n",
       "83    Abandoned by her fiance, an educated negro wom...            78  \n",
       "1425  A young orphan girl, courted by an unpleasant ...           145  \n",
       "1684  In Vienna circa World War I, decadent Count Fr...           113  \n",
       "1134  In Renaissance Florence, Tito, a no-good young...           118  \n",
       "2629  The Son of Zorro, Don Cesar De La Vega, is sen...           111  \n",
       "...                                                 ...           ...  \n",
       "3850  This ambient sleep and meditation video is a f...           550  \n",
       "933   Black screen reduces the blue-spectrum light w...           601  \n",
       "3688  Medium speed Box Fan for Sleep 8 hours capture...           540  \n",
       "7615  Slumber off to a deep and refreshing sleep wit...           540  \n",
       "8931  Three freinds with different phases in marriag...           188  \n",
       "\n",
       "[100 rows x 12 columns]"
      ]
     },
     "execution_count": 74,
     "metadata": {},
     "output_type": "execute_result"
    }
   ],
   "source": [
    "#for knowing each longer movie/serie by year and plataform you just have to print the next data frames\n",
    "#(remember to erase the # of the archive you want info from)\n",
    "\n",
    "amz_movies_year_maxduration\n",
    "#amz_series_year_maxduration\n",
    "\n",
    "#dsny_movies_year_maxduration\n",
    "#dsny_series_year_maxduration\n",
    "\n",
    "#hlu_movies_year_maxduration\n",
    "#hlu_series_year_maxduration\n",
    "\n",
    "#ntx_movies_year_maxduration\n",
    "#ntx_series_year_maxduration"
   ]
  },
  {
   "attachments": {},
   "cell_type": "markdown",
   "metadata": {},
   "source": [
    "QUESTION  D) movies that are exclusive of each platform (example: type the platform netflix and return all the movies that just apear on the netflx data frame)"
   ]
  },
  {
   "cell_type": "code",
   "execution_count": 75,
   "metadata": {},
   "outputs": [],
   "source": [
    "#make a \"plt/ID\" column to identify platforms\n",
    "amz_movies[\"plt/ID\"] = \"amz\"\n",
    "dsny_movies[\"plt/ID\"] = \"dsny\"\n",
    "hlu_movies[\"plt/ID\"] = \"hlu\"\n",
    "ntx_movies[\"plt/ID\"] = \"ntx\"\n",
    "\n",
    "#concatenate all the data frames in one\n",
    "df_movies = pd.concat([amz_movies,dsny_movies,hlu_movies,ntx_movies], axis=0)"
   ]
  },
  {
   "cell_type": "code",
   "execution_count": 76,
   "metadata": {},
   "outputs": [],
   "source": [
    "#drop all the movies title that repeat/duplicate\n",
    "df_movies_dd = df_movies.drop_duplicates(subset=[\"title\"],keep=False)"
   ]
  },
  {
   "cell_type": "code",
   "execution_count": 77,
   "metadata": {},
   "outputs": [
    {
     "name": "stdout",
     "output_type": "stream",
     "text": [
      "(15999, 13)\n"
     ]
    },
    {
     "data": {
      "text/plain": [
       "(15113, 13)"
      ]
     },
     "execution_count": 77,
     "metadata": {},
     "output_type": "execute_result"
    }
   ],
   "source": [
    "#show the shape of each platform to see how much the quantity of movies decrease\n",
    "print(df_movies.shape)\n",
    "df_movies_dd.shape"
   ]
  },
  {
   "cell_type": "code",
   "execution_count": 78,
   "metadata": {},
   "outputs": [],
   "source": [
    "#create the function that will look for the exclusive movies depending on the platform\n",
    "def platform_search(platform):\n",
    "    if platform == \"Amazon\":\n",
    "        print(f\"The movies that are exclusive of {platform} platform will present in the next data frame\")\n",
    "        return df_movies_dd[df_movies_dd[\"plt/ID\"]==\"amz\"]\n",
    "    \n",
    "    elif platform == \"Disney\":\n",
    "        print(f\"The movies that are exclusive of {platform} platform will present in the next data frame\")\n",
    "        return df_movies_dd[df_movies_dd[\"plt/ID\"]==\"dsny\"]\n",
    "    \n",
    "    elif platform == \"Hulu\":\n",
    "        print(f\"The movies that are exclusive of {platform} platform will present in the next data frame\")\n",
    "        return df_movies_dd[df_movies_dd[\"plt/ID\"]==\"hlu\"]\n",
    "    \n",
    "    elif platform == \"Netflix\":\n",
    "        print(f\"The movies that are exclusive of {platform} platform will present in the next data frame\")\n",
    "        return df_movies_dd[df_movies_dd[\"plt/ID\"]==\"ntx\"]\n",
    "    \n",
    "    else:\n",
    "        return \"Wrong word type again\""
   ]
  },
  {
   "attachments": {},
   "cell_type": "markdown",
   "metadata": {},
   "source": [
    "ANSWER TO QUESTION D) exclusive movies from each platform"
   ]
  },
  {
   "cell_type": "code",
   "execution_count": 79,
   "metadata": {},
   "outputs": [
    {
     "name": "stdout",
     "output_type": "stream",
     "text": [
      "The movies that are exclusive of Disney platform will present in the next data frame\n"
     ]
    },
    {
     "data": {
      "text/html": [
       "<div>\n",
       "<style scoped>\n",
       "    .dataframe tbody tr th:only-of-type {\n",
       "        vertical-align: middle;\n",
       "    }\n",
       "\n",
       "    .dataframe tbody tr th {\n",
       "        vertical-align: top;\n",
       "    }\n",
       "\n",
       "    .dataframe thead th {\n",
       "        text-align: right;\n",
       "    }\n",
       "</style>\n",
       "<table border=\"1\" class=\"dataframe\">\n",
       "  <thead>\n",
       "    <tr style=\"text-align: right;\">\n",
       "      <th></th>\n",
       "      <th>show_id</th>\n",
       "      <th>type</th>\n",
       "      <th>title</th>\n",
       "      <th>director</th>\n",
       "      <th>cast</th>\n",
       "      <th>country</th>\n",
       "      <th>date_added</th>\n",
       "      <th>release_year</th>\n",
       "      <th>rating</th>\n",
       "      <th>listed_in</th>\n",
       "      <th>description</th>\n",
       "      <th>duration/min</th>\n",
       "      <th>plt/ID</th>\n",
       "    </tr>\n",
       "  </thead>\n",
       "  <tbody>\n",
       "    <tr>\n",
       "      <th>0</th>\n",
       "      <td>s1</td>\n",
       "      <td>Movie</td>\n",
       "      <td>Duck the Halls: A Mickey Mouse Christmas Special</td>\n",
       "      <td>Alonso Ramirez Ramos, Dave Wasson</td>\n",
       "      <td>Chris Diamantopoulos, Tony Anselmo, Tress MacN...</td>\n",
       "      <td>NaN</td>\n",
       "      <td>November 26, 2021</td>\n",
       "      <td>2016</td>\n",
       "      <td>TV-G</td>\n",
       "      <td>Animation, Family</td>\n",
       "      <td>Join Mickey and the gang as they duck the halls!</td>\n",
       "      <td>23</td>\n",
       "      <td>dsny</td>\n",
       "    </tr>\n",
       "    <tr>\n",
       "      <th>1</th>\n",
       "      <td>s2</td>\n",
       "      <td>Movie</td>\n",
       "      <td>Ernest Saves Christmas</td>\n",
       "      <td>John Cherry</td>\n",
       "      <td>Jim Varney, Noelle Parker, Douglas Seale</td>\n",
       "      <td>NaN</td>\n",
       "      <td>November 26, 2021</td>\n",
       "      <td>1988</td>\n",
       "      <td>PG</td>\n",
       "      <td>Comedy</td>\n",
       "      <td>Santa Claus passes his magic bag to a new St. ...</td>\n",
       "      <td>91</td>\n",
       "      <td>dsny</td>\n",
       "    </tr>\n",
       "    <tr>\n",
       "      <th>2</th>\n",
       "      <td>s3</td>\n",
       "      <td>Movie</td>\n",
       "      <td>Ice Age: A Mammoth Christmas</td>\n",
       "      <td>Karen Disher</td>\n",
       "      <td>Raymond Albert Romano, John Leguizamo, Denis L...</td>\n",
       "      <td>United States</td>\n",
       "      <td>November 26, 2021</td>\n",
       "      <td>2011</td>\n",
       "      <td>TV-G</td>\n",
       "      <td>Animation, Comedy, Family</td>\n",
       "      <td>Sid the Sloth is on Santa's naughty list.</td>\n",
       "      <td>23</td>\n",
       "      <td>dsny</td>\n",
       "    </tr>\n",
       "    <tr>\n",
       "      <th>3</th>\n",
       "      <td>s4</td>\n",
       "      <td>Movie</td>\n",
       "      <td>The Queen Family Singalong</td>\n",
       "      <td>Hamish Hamilton</td>\n",
       "      <td>Darren Criss, Adam Lambert, Derek Hough, Alexa...</td>\n",
       "      <td>NaN</td>\n",
       "      <td>November 26, 2021</td>\n",
       "      <td>2021</td>\n",
       "      <td>TV-PG</td>\n",
       "      <td>Musical</td>\n",
       "      <td>This is real life, not just fantasy!</td>\n",
       "      <td>41</td>\n",
       "      <td>dsny</td>\n",
       "    </tr>\n",
       "    <tr>\n",
       "      <th>5</th>\n",
       "      <td>s6</td>\n",
       "      <td>Movie</td>\n",
       "      <td>Becoming Cousteau</td>\n",
       "      <td>Liz Garbus</td>\n",
       "      <td>Jacques Yves Cousteau, Vincent Cassel</td>\n",
       "      <td>United States</td>\n",
       "      <td>November 24, 2021</td>\n",
       "      <td>2021</td>\n",
       "      <td>PG-13</td>\n",
       "      <td>Biographical, Documentary</td>\n",
       "      <td>An inside look at the legendary life of advent...</td>\n",
       "      <td>94</td>\n",
       "      <td>dsny</td>\n",
       "    </tr>\n",
       "    <tr>\n",
       "      <th>...</th>\n",
       "      <td>...</td>\n",
       "      <td>...</td>\n",
       "      <td>...</td>\n",
       "      <td>...</td>\n",
       "      <td>...</td>\n",
       "      <td>...</td>\n",
       "      <td>...</td>\n",
       "      <td>...</td>\n",
       "      <td>...</td>\n",
       "      <td>...</td>\n",
       "      <td>...</td>\n",
       "      <td>...</td>\n",
       "      <td>...</td>\n",
       "    </tr>\n",
       "    <tr>\n",
       "      <th>1445</th>\n",
       "      <td>s1446</td>\n",
       "      <td>Movie</td>\n",
       "      <td>X-Men Origins: Wolverine</td>\n",
       "      <td>Gavin Hood</td>\n",
       "      <td>Hugh Jackman, Liev Schreiber, Danny Huston, wi...</td>\n",
       "      <td>United States, United Kingdom</td>\n",
       "      <td>June 4, 2021</td>\n",
       "      <td>2009</td>\n",
       "      <td>PG-13</td>\n",
       "      <td>Action-Adventure, Family, Science Fiction</td>\n",
       "      <td>Wolverine unites with legendary X-Men to fight...</td>\n",
       "      <td>108</td>\n",
       "      <td>dsny</td>\n",
       "    </tr>\n",
       "    <tr>\n",
       "      <th>1446</th>\n",
       "      <td>s1447</td>\n",
       "      <td>Movie</td>\n",
       "      <td>Night at the Museum: Battle of the Smithsonian</td>\n",
       "      <td>Shawn Levy</td>\n",
       "      <td>Ben Stiller, Amy Adams, Owen Wilson, Hank Azar...</td>\n",
       "      <td>United States, Canada</td>\n",
       "      <td>April 2, 2021</td>\n",
       "      <td>2009</td>\n",
       "      <td>PG</td>\n",
       "      <td>Action-Adventure, Comedy, Family</td>\n",
       "      <td>Larry Daley returns to rescue some old friends...</td>\n",
       "      <td>106</td>\n",
       "      <td>dsny</td>\n",
       "    </tr>\n",
       "    <tr>\n",
       "      <th>1447</th>\n",
       "      <td>s1448</td>\n",
       "      <td>Movie</td>\n",
       "      <td>Eddie the Eagle</td>\n",
       "      <td>Dexter Fletcher</td>\n",
       "      <td>Tom Costello, Jo Hartley, Keith Allen, Dickon ...</td>\n",
       "      <td>United Kingdom, Germany, United States</td>\n",
       "      <td>December 18, 2020</td>\n",
       "      <td>2016</td>\n",
       "      <td>PG-13</td>\n",
       "      <td>Biographical, Comedy, Drama</td>\n",
       "      <td>True story of Eddie Edwards, a British ski-jum...</td>\n",
       "      <td>107</td>\n",
       "      <td>dsny</td>\n",
       "    </tr>\n",
       "    <tr>\n",
       "      <th>1448</th>\n",
       "      <td>s1449</td>\n",
       "      <td>Movie</td>\n",
       "      <td>Bend It Like Beckham</td>\n",
       "      <td>Gurinder Chadha</td>\n",
       "      <td>Parminder Nagra, Keira Knightley, Jonathan Rhy...</td>\n",
       "      <td>United Kingdom, Germany, United States</td>\n",
       "      <td>September 18, 2020</td>\n",
       "      <td>2003</td>\n",
       "      <td>PG-13</td>\n",
       "      <td>Buddy, Comedy, Coming of Age</td>\n",
       "      <td>Despite the wishes of their traditional famili...</td>\n",
       "      <td>112</td>\n",
       "      <td>dsny</td>\n",
       "    </tr>\n",
       "    <tr>\n",
       "      <th>1449</th>\n",
       "      <td>s1450</td>\n",
       "      <td>Movie</td>\n",
       "      <td>Captain Sparky vs. The Flying Saucers</td>\n",
       "      <td>Mark Waring</td>\n",
       "      <td>Charlie Tahan</td>\n",
       "      <td>United States</td>\n",
       "      <td>April 1, 2020</td>\n",
       "      <td>2012</td>\n",
       "      <td>TV-G</td>\n",
       "      <td>Action-Adventure, Animals &amp; Nature, Animation</td>\n",
       "      <td>View one of Sparky's favorite home movies.</td>\n",
       "      <td>2</td>\n",
       "      <td>dsny</td>\n",
       "    </tr>\n",
       "  </tbody>\n",
       "</table>\n",
       "<p>1006 rows × 13 columns</p>\n",
       "</div>"
      ],
      "text/plain": [
       "     show_id   type                                             title  \\\n",
       "0         s1  Movie  Duck the Halls: A Mickey Mouse Christmas Special   \n",
       "1         s2  Movie                            Ernest Saves Christmas   \n",
       "2         s3  Movie                      Ice Age: A Mammoth Christmas   \n",
       "3         s4  Movie                        The Queen Family Singalong   \n",
       "5         s6  Movie                                 Becoming Cousteau   \n",
       "...      ...    ...                                               ...   \n",
       "1445   s1446  Movie                          X-Men Origins: Wolverine   \n",
       "1446   s1447  Movie    Night at the Museum: Battle of the Smithsonian   \n",
       "1447   s1448  Movie                                   Eddie the Eagle   \n",
       "1448   s1449  Movie                              Bend It Like Beckham   \n",
       "1449   s1450  Movie             Captain Sparky vs. The Flying Saucers   \n",
       "\n",
       "                               director  \\\n",
       "0     Alonso Ramirez Ramos, Dave Wasson   \n",
       "1                           John Cherry   \n",
       "2                          Karen Disher   \n",
       "3                       Hamish Hamilton   \n",
       "5                            Liz Garbus   \n",
       "...                                 ...   \n",
       "1445                         Gavin Hood   \n",
       "1446                         Shawn Levy   \n",
       "1447                    Dexter Fletcher   \n",
       "1448                    Gurinder Chadha   \n",
       "1449                        Mark Waring   \n",
       "\n",
       "                                                   cast  \\\n",
       "0     Chris Diamantopoulos, Tony Anselmo, Tress MacN...   \n",
       "1              Jim Varney, Noelle Parker, Douglas Seale   \n",
       "2     Raymond Albert Romano, John Leguizamo, Denis L...   \n",
       "3     Darren Criss, Adam Lambert, Derek Hough, Alexa...   \n",
       "5                 Jacques Yves Cousteau, Vincent Cassel   \n",
       "...                                                 ...   \n",
       "1445  Hugh Jackman, Liev Schreiber, Danny Huston, wi...   \n",
       "1446  Ben Stiller, Amy Adams, Owen Wilson, Hank Azar...   \n",
       "1447  Tom Costello, Jo Hartley, Keith Allen, Dickon ...   \n",
       "1448  Parminder Nagra, Keira Knightley, Jonathan Rhy...   \n",
       "1449                                      Charlie Tahan   \n",
       "\n",
       "                                     country          date_added  \\\n",
       "0                                        NaN   November 26, 2021   \n",
       "1                                        NaN   November 26, 2021   \n",
       "2                              United States   November 26, 2021   \n",
       "3                                        NaN   November 26, 2021   \n",
       "5                              United States   November 24, 2021   \n",
       "...                                      ...                 ...   \n",
       "1445           United States, United Kingdom        June 4, 2021   \n",
       "1446                   United States, Canada       April 2, 2021   \n",
       "1447  United Kingdom, Germany, United States   December 18, 2020   \n",
       "1448  United Kingdom, Germany, United States  September 18, 2020   \n",
       "1449                           United States       April 1, 2020   \n",
       "\n",
       "      release_year rating                                      listed_in  \\\n",
       "0             2016   TV-G                              Animation, Family   \n",
       "1             1988     PG                                         Comedy   \n",
       "2             2011   TV-G                      Animation, Comedy, Family   \n",
       "3             2021  TV-PG                                        Musical   \n",
       "5             2021  PG-13                      Biographical, Documentary   \n",
       "...            ...    ...                                            ...   \n",
       "1445          2009  PG-13      Action-Adventure, Family, Science Fiction   \n",
       "1446          2009     PG               Action-Adventure, Comedy, Family   \n",
       "1447          2016  PG-13                    Biographical, Comedy, Drama   \n",
       "1448          2003  PG-13                   Buddy, Comedy, Coming of Age   \n",
       "1449          2012   TV-G  Action-Adventure, Animals & Nature, Animation   \n",
       "\n",
       "                                            description  duration/min plt/ID  \n",
       "0      Join Mickey and the gang as they duck the halls!            23   dsny  \n",
       "1     Santa Claus passes his magic bag to a new St. ...            91   dsny  \n",
       "2             Sid the Sloth is on Santa's naughty list.            23   dsny  \n",
       "3                  This is real life, not just fantasy!            41   dsny  \n",
       "5     An inside look at the legendary life of advent...            94   dsny  \n",
       "...                                                 ...           ...    ...  \n",
       "1445  Wolverine unites with legendary X-Men to fight...           108   dsny  \n",
       "1446  Larry Daley returns to rescue some old friends...           106   dsny  \n",
       "1447  True story of Eddie Edwards, a British ski-jum...           107   dsny  \n",
       "1448  Despite the wishes of their traditional famili...           112   dsny  \n",
       "1449         View one of Sparky's favorite home movies.             2   dsny  \n",
       "\n",
       "[1006 rows x 13 columns]"
      ]
     },
     "execution_count": 79,
     "metadata": {},
     "output_type": "execute_result"
    }
   ],
   "source": [
    "#type the platform you want to search for\n",
    "platform_search(\"Disney\")"
   ]
  },
  {
   "attachments": {},
   "cell_type": "markdown",
   "metadata": {},
   "source": [
    "QUESTION E) Search for the most popular actor by platform"
   ]
  },
  {
   "cell_type": "code",
   "execution_count": 334,
   "metadata": {},
   "outputs": [
    {
     "data": {
      "text/plain": [
       "'Maggie Binkley'"
      ]
     },
     "execution_count": 334,
     "metadata": {},
     "output_type": "execute_result"
    }
   ],
   "source": [
    "#make a list of actors by splitting each actor from the \"cast\" column \n",
    "actors = amz[\"cast\"].str.split(\", \").explode().tolist()\n",
    "\n",
    "#count how many times the actors appears \n",
    "actors = pd.Series(actors).value_counts()\n",
    "\n",
    "popular_actor = actors.index[0]\n",
    "popular_actor"
   ]
  },
  {
   "cell_type": "code",
   "execution_count": 371,
   "metadata": {},
   "outputs": [
    {
     "ename": "TypeError",
     "evalue": "'method' object is not subscriptable",
     "output_type": "error",
     "traceback": [
      "\u001b[1;31m---------------------------------------------------------------------------\u001b[0m",
      "\u001b[1;31mTypeError\u001b[0m                                 Traceback (most recent call last)",
      "Cell \u001b[1;32mIn[371], line 1\u001b[0m\n\u001b[1;32m----> 1\u001b[0m amz \u001b[39m=\u001b[39m amz[\u001b[39m\"\u001b[39;49m\u001b[39mrelease_year\u001b[39;49m\u001b[39m\"\u001b[39;49m]\u001b[39m.\u001b[39msort_values\n\u001b[0;32m      2\u001b[0m amz\n",
      "\u001b[1;31mTypeError\u001b[0m: 'method' object is not subscriptable"
     ]
    }
   ],
   "source": [
    "amz = amz[\"release_year\"].sort_values\n"
   ]
  }
 ],
 "metadata": {
  "kernelspec": {
   "display_name": "Python 3",
   "language": "python",
   "name": "python3"
  },
  "language_info": {
   "codemirror_mode": {
    "name": "ipython",
    "version": 3
   },
   "file_extension": ".py",
   "mimetype": "text/x-python",
   "name": "python",
   "nbconvert_exporter": "python",
   "pygments_lexer": "ipython3",
   "version": "3.11.2"
  },
  "orig_nbformat": 4
 },
 "nbformat": 4,
 "nbformat_minor": 2
}
